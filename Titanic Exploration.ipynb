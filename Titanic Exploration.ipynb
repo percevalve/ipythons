{
 "metadata": {
  "name": "",
  "signature": "sha256:c57a9bdab4c926be68b34fcdf7673ae66c347c6af2da61532ab5414ee42451d5"
 },
 "nbformat": 3,
 "nbformat_minor": 0,
 "worksheets": [
  {
   "cells": [
    {
     "cell_type": "code",
     "collapsed": false,
     "input": [
      "import pandas as pd\n",
      "import matplotlib.pyplot as plt\n",
      "from numpy import corrcoef, sum, log, arange, exp, isnan\n",
      "from numpy.random import rand\n",
      "from statsmodels import api as sm\n",
      "import csv\n",
      "import numpy as np\n",
      "import nltk\n",
      "\n",
      "titanic = pd.read_csv('train.csv')\n",
      "test = pd.read_csv('test.csv')\n",
      "\n",
      "for Pclass in titanic['Pclass'].unique():\n",
      "    titanic[\"isClass\"+str(Pclass)] = map(lambda x:(0,1)[x==Pclass],titanic[\"Pclass\"])\n",
      "    test[\"isClass\"+str(Pclass)] = map(lambda x:(0,1)[x==Pclass],test[\"Pclass\"])\n",
      "for Embarked in titanic['Embarked'].unique():\n",
      "    titanic[\"Embarked\"+str(Embarked)] = map(lambda x:(0,1)[x==Embarked],titanic[\"Embarked\"])\n",
      "    test[\"Embarked\"+str(Embarked)] = map(lambda x:(0,1)[x==Embarked],test[\"Embarked\"])\n",
      "titanic['SexL'] = titanic['Sex'].map( {'female': 0, 'male': 1} ).astype(int)\n",
      "titanic[\"SexL\"] = map(lambda x:(0,1)[x=='male'],titanic[\"Sex\"])\n",
      "test[\"SexL\"] = map(lambda x:(0,1)[x=='male'],test[\"Sex\"])\n",
      "titanic[\"isCabine\"] = 0\n",
      "test[\"isCabine\"] = 0\n",
      "for cabin in titanic[titanic[\"Cabin\"].notnull()].Cabin.unique():\n",
      "    titanic.loc[((titanic[\"Cabin\"]==cabin)),\"isCabine\"] = 1\n",
      "for cabin in test[test[\"Cabin\"].notnull()].Cabin.unique():\n",
      "    test.loc[((test[\"Cabin\"]==cabin)),\"isCabine\"] = 1\n",
      "    #all = regex.findall(cabin)\n",
      "my_tickets = {}\n",
      "for passager in titanic.iterrows():\n",
      "    if passager[1].Ticket in my_tickets:\n",
      "        my_tickets[passager[1].Ticket] += 1\n",
      "    else:\n",
      "        my_tickets[passager[1].Ticket] = 0\n",
      "for passager in test.iterrows():\n",
      "    if passager[1].Ticket in my_tickets:\n",
      "        my_tickets[passager[1].Ticket] += 1\n",
      "    else:\n",
      "        my_tickets[passager[1].Ticket] = 0\n",
      "titanic[\"ticket_nb\"] = 0\n",
      "test[\"ticket_nb\"] = 0\n",
      "titanic[\"relative\"] = titanic[\"SibSp\"]+ titanic[\"Parch\"]\n",
      "test[\"relative\"] = test[\"SibSp\"]+ test[\"Parch\"] \n",
      "for tickets in titanic.Ticket.unique():\n",
      "    titanic.loc[((titanic[\"Ticket\"]==tickets)),\"ticket_nb\"] = my_tickets[tickets]\n",
      "for tickets in test.Ticket.unique():\n",
      "    test.loc[((test[\"Ticket\"]==tickets)),\"ticket_nb\"] = my_tickets[tickets]    \n",
      "\n",
      "titanic[\"relativeA\"] = titanic[\"relative\"]+ titanic[\"ticket_nb\"]\n",
      "test[\"relativeA\"] = test[\"relative\"]+ test[\"ticket_nb\"] \n",
      "median_ages = np.zeros((2,3))\n",
      "median_fares = np.zeros((3))\n",
      "\n",
      "titanic[\"AgeC\"] = titanic.Age\n",
      "test[\"AgeC\"] = test.Age\n",
      "titanic[\"FareC\"] = titanic.Fare\n",
      "test[\"FareC\"] = test.Fare\n",
      "\n",
      "for s in titanic[\"SexL\"].unique():\n",
      "    for c in titanic[\"Pclass\"].unique():\n",
      "        median_ages[s,c-1] = titanic[(titanic['SexL'] == s) & (titanic['Pclass'] == c)]['Age'].dropna().median()\n",
      "        titanic.loc[ (titanic.Age.isnull()) & (titanic.SexL == s) & (titanic.Pclass == c), 'AgeC'] = median_ages[s,c-1]\n",
      "        test.loc[ (test.Age.isnull()) & (test.SexL == s) & (test.Pclass == c), 'AgeC'] = median_ages[s,c-1]\n",
      "for c in titanic[\"Pclass\"].unique():\n",
      "    median_fares[c-1] = titanic[(titanic['Pclass'] == c)]['Fare'].dropna().median()\n",
      "    titanic.loc[ (titanic.Fare.isnull()) & (titanic.Pclass == c), 'FareC'] = median_fares[c-1]\n",
      "    test.loc[ (test.Fare.isnull()) & (test.Pclass == c), 'FareC'] = median_fares[c-1]       \n",
      "\n",
      "        \n",
      "    \n",
      "titanic[\"FareClog\"] = log(titanic.FareC)\n",
      "test[\"FareClog\"] = log(test.FareC)    \n",
      "titanic[\"AgeD\"] = titanic.AgeC\n",
      "test[\"AgeD\"] = test.AgeC    \n",
      "stat = {}    \n",
      "for i in titanic[(titanic.Age.isnull())].iterrows():\n",
      "    for token in nltk.word_tokenize(i[1][\"Name\"]):\n",
      "        if token == \"Master\":\n",
      "            titanic.loc[(titanic.PassengerId == i[1][\"PassengerId\"]), 'AgeD']= 5\n",
      "for i in test[(test.Age.isnull())].iterrows():\n",
      "    for token in nltk.word_tokenize(i[1][\"Name\"]):\n",
      "        if token == \"Master\":\n",
      "            test.loc[(test.PassengerId == i[1][\"PassengerId\"]), 'AgeD']= 5\n",
      "titanic['intercept']=1.0\n",
      "test['intercept']=1.0\n",
      "titanic[\"SexM\"] = titanic.SexL\n",
      "test[\"SexM\"] = test.SexL   \n",
      "test.loc[(test.AgeD < 12), 'SexM'] = 0\n",
      "titanic.loc[(titanic.AgeD < 12), 'SexM'] = 0  \n",
      "cols = ['SexL','SexM','isClass1','isClass2','isClass3','AgeC','AgeD','FareC','relative','SibSp','Parch','EmbarkedS','EmbarkedC','EmbarkedQ','Embarkednan','intercept']\n",
      "ttt = pd.DataFrame(titanic,columns=['Survived'] + cols).dropna()\n",
      "t= {}\n",
      "for Pclass in titanic['Pclass'].unique():\n",
      "    t[Pclass] = pd.DataFrame(titanic[titanic[\"Pclass\"]==Pclass],columns=['Survived','Age','SexL','Fare','intercept']).dropna()\n",
      "titanic[titanic[\"Ticket\"]==\"PC 17757\"]"
     ],
     "language": "python",
     "metadata": {},
     "outputs": [
      {
       "output_type": "stream",
       "stream": "stderr",
       "text": [
        "/usr/local/lib/python2.7/site-packages/numexpr/cpuinfo.py:71: UserWarning: [Errno 2] No such file or directory\n",
        "  stacklevel=stacklevel+1):\n"
       ]
      },
      {
       "html": [
        "<div style=\"max-height:1000px;max-width:1500px;overflow:auto;\">\n",
        "<table border=\"1\" class=\"dataframe\">\n",
        "  <thead>\n",
        "    <tr style=\"text-align: right;\">\n",
        "      <th></th>\n",
        "      <th>PassengerId</th>\n",
        "      <th>Survived</th>\n",
        "      <th>Pclass</th>\n",
        "      <th>Name</th>\n",
        "      <th>Sex</th>\n",
        "      <th>Age</th>\n",
        "      <th>SibSp</th>\n",
        "      <th>Parch</th>\n",
        "      <th>Ticket</th>\n",
        "      <th>Fare</th>\n",
        "      <th>...</th>\n",
        "      <th>isCabine</th>\n",
        "      <th>ticket_nb</th>\n",
        "      <th>relative</th>\n",
        "      <th>relativeA</th>\n",
        "      <th>AgeC</th>\n",
        "      <th>FareC</th>\n",
        "      <th>FareClog</th>\n",
        "      <th>AgeD</th>\n",
        "      <th>intercept</th>\n",
        "      <th>SexM</th>\n",
        "    </tr>\n",
        "  </thead>\n",
        "  <tbody>\n",
        "    <tr>\n",
        "      <th>380</th>\n",
        "      <td> 381</td>\n",
        "      <td> 1</td>\n",
        "      <td> 1</td>\n",
        "      <td>                             Bidois, Miss. Rosalie</td>\n",
        "      <td> female</td>\n",
        "      <td> 42</td>\n",
        "      <td> 0</td>\n",
        "      <td> 0</td>\n",
        "      <td> PC 17757</td>\n",
        "      <td> 227.525</td>\n",
        "      <td>...</td>\n",
        "      <td> 0</td>\n",
        "      <td> 4</td>\n",
        "      <td> 0</td>\n",
        "      <td> 4</td>\n",
        "      <td> 42</td>\n",
        "      <td> 227.525</td>\n",
        "      <td> 5.42726</td>\n",
        "      <td> 42</td>\n",
        "      <td> 1</td>\n",
        "      <td> 0</td>\n",
        "    </tr>\n",
        "    <tr>\n",
        "      <th>557</th>\n",
        "      <td> 558</td>\n",
        "      <td> 0</td>\n",
        "      <td> 1</td>\n",
        "      <td>                               Robbins, Mr. Victor</td>\n",
        "      <td>   male</td>\n",
        "      <td>NaN</td>\n",
        "      <td> 0</td>\n",
        "      <td> 0</td>\n",
        "      <td> PC 17757</td>\n",
        "      <td> 227.525</td>\n",
        "      <td>...</td>\n",
        "      <td> 0</td>\n",
        "      <td> 4</td>\n",
        "      <td> 0</td>\n",
        "      <td> 4</td>\n",
        "      <td> 40</td>\n",
        "      <td> 227.525</td>\n",
        "      <td> 5.42726</td>\n",
        "      <td> 40</td>\n",
        "      <td> 1</td>\n",
        "      <td> 1</td>\n",
        "    </tr>\n",
        "    <tr>\n",
        "      <th>700</th>\n",
        "      <td> 701</td>\n",
        "      <td> 1</td>\n",
        "      <td> 1</td>\n",
        "      <td> Astor, Mrs. John Jacob (Madeleine Talmadge Force)</td>\n",
        "      <td> female</td>\n",
        "      <td> 18</td>\n",
        "      <td> 1</td>\n",
        "      <td> 0</td>\n",
        "      <td> PC 17757</td>\n",
        "      <td> 227.525</td>\n",
        "      <td>...</td>\n",
        "      <td> 1</td>\n",
        "      <td> 4</td>\n",
        "      <td> 1</td>\n",
        "      <td> 5</td>\n",
        "      <td> 18</td>\n",
        "      <td> 227.525</td>\n",
        "      <td> 5.42726</td>\n",
        "      <td> 18</td>\n",
        "      <td> 1</td>\n",
        "      <td> 0</td>\n",
        "    </tr>\n",
        "    <tr>\n",
        "      <th>716</th>\n",
        "      <td> 717</td>\n",
        "      <td> 1</td>\n",
        "      <td> 1</td>\n",
        "      <td>                     Endres, Miss. Caroline Louise</td>\n",
        "      <td> female</td>\n",
        "      <td> 38</td>\n",
        "      <td> 0</td>\n",
        "      <td> 0</td>\n",
        "      <td> PC 17757</td>\n",
        "      <td> 227.525</td>\n",
        "      <td>...</td>\n",
        "      <td> 1</td>\n",
        "      <td> 4</td>\n",
        "      <td> 0</td>\n",
        "      <td> 4</td>\n",
        "      <td> 38</td>\n",
        "      <td> 227.525</td>\n",
        "      <td> 5.42726</td>\n",
        "      <td> 38</td>\n",
        "      <td> 1</td>\n",
        "      <td> 0</td>\n",
        "    </tr>\n",
        "  </tbody>\n",
        "</table>\n",
        "<p>4 rows \u00d7 30 columns</p>\n",
        "</div>"
       ],
       "metadata": {},
       "output_type": "pyout",
       "prompt_number": 1,
       "text": [
        "     PassengerId  Survived  Pclass  \\\n",
        "380          381         1       1   \n",
        "557          558         0       1   \n",
        "700          701         1       1   \n",
        "716          717         1       1   \n",
        "\n",
        "                                                  Name     Sex  Age  SibSp  \\\n",
        "380                              Bidois, Miss. Rosalie  female   42      0   \n",
        "557                                Robbins, Mr. Victor    male  NaN      0   \n",
        "700  Astor, Mrs. John Jacob (Madeleine Talmadge Force)  female   18      1   \n",
        "716                      Endres, Miss. Caroline Louise  female   38      0   \n",
        "\n",
        "     Parch    Ticket     Fare   ...    isCabine ticket_nb  relative  \\\n",
        "380      0  PC 17757  227.525   ...           0         4         0   \n",
        "557      0  PC 17757  227.525   ...           0         4         0   \n",
        "700      0  PC 17757  227.525   ...           1         4         1   \n",
        "716      0  PC 17757  227.525   ...           1         4         0   \n",
        "\n",
        "     relativeA  AgeC    FareC  FareClog  AgeD  intercept  SexM  \n",
        "380          4    42  227.525   5.42726    42          1     0  \n",
        "557          4    40  227.525   5.42726    40          1     1  \n",
        "700          5    18  227.525   5.42726    18          1     0  \n",
        "716          4    38  227.525   5.42726    38          1     0  \n",
        "\n",
        "[4 rows x 30 columns]"
       ]
      }
     ],
     "prompt_number": 1
    },
    {
     "cell_type": "code",
     "collapsed": false,
     "input": [
      "print(len(test), len(test[cols].dropna()))"
     ],
     "language": "python",
     "metadata": {},
     "outputs": [
      {
       "output_type": "stream",
       "stream": "stdout",
       "text": [
        "(418, 331)\n"
       ]
      }
     ],
     "prompt_number": 76
    },
    {
     "cell_type": "code",
     "collapsed": false,
     "input": [
      "titanic[\"Age\"].dropna().hist()"
     ],
     "language": "python",
     "metadata": {},
     "outputs": [
      {
       "metadata": {},
       "output_type": "pyout",
       "prompt_number": 71,
       "text": [
        "<matplotlib.axes._subplots.AxesSubplot at 0x10dba7bd0>"
       ]
      },
      {
       "metadata": {},
       "output_type": "display_data",
       "png": "[encoded data removed]",
       "text": [
        "<matplotlib.figure.Figure at 0x10dbeac10>"
       ]
      }
     ],
     "prompt_number": 71
    },
    {
     "cell_type": "code",
     "collapsed": false,
     "input": [
      "death_counts = pd.crosstab([titanic[\"Embarked\"],titanic[\"Pclass\"], titanic[\"Sex\"]], titanic[\"Survived\"].astype(bool))\n",
      "death_counts.plot(kind='bar', stacked=True, color=['black','gold'], grid=False)\n",
      "death_counts.div(death_counts.sum(1).astype(float), axis=0).plot(kind='barh', stacked=True, color=['black','gold'])"
     ],
     "language": "python",
     "metadata": {},
     "outputs": [
      {
       "metadata": {},
       "output_type": "pyout",
       "prompt_number": 83,
       "text": [
        "<matplotlib.axes._subplots.AxesSubplot at 0x1120098d0>"
       ]
      },
      {
       "metadata": {},
       "output_type": "display_data",
       "png": "[encoded data removed]",
       "text": [
        "<matplotlib.figure.Figure at 0x1114b6a10>"
       ]
      },
      {
       "metadata": {},
       "output_type": "display_data",
       "png": "[encoded data removed]",
       "text": [
        "<matplotlib.figure.Figure at 0x1117d9850>"
       ]
      }
     ],
     "prompt_number": 83
    },
    {
     "cell_type": "code",
     "collapsed": false,
     "input": [],
     "language": "python",
     "metadata": {},
     "outputs": [],
     "prompt_number": 83
    },
    {
     "cell_type": "code",
     "collapsed": false,
     "input": [
      "titanic[(titanic[\"Cabin\"].notnull()) & (titanic[\"Pclass\"]>1)][[\"Pclass\",\"Cabin\",\"Survived\"]]"
     ],
     "language": "python",
     "metadata": {},
     "outputs": [
      {
       "html": [
        "<div style=\"max-height:1000px;max-width:1500px;overflow:auto;\">\n",
        "<table border=\"1\" class=\"dataframe\">\n",
        "  <thead>\n",
        "    <tr style=\"text-align: right;\">\n",
        "      <th></th>\n",
        "      <th>Pclass</th>\n",
        "      <th>Cabin</th>\n",
        "      <th>Survived</th>\n",
        "    </tr>\n",
        "  </thead>\n",
        "  <tbody>\n",
        "    <tr>\n",
        "      <th>10 </th>\n",
        "      <td> 3</td>\n",
        "      <td>    G6</td>\n",
        "      <td> 1</td>\n",
        "    </tr>\n",
        "    <tr>\n",
        "      <th>21 </th>\n",
        "      <td> 2</td>\n",
        "      <td>   D56</td>\n",
        "      <td> 1</td>\n",
        "    </tr>\n",
        "    <tr>\n",
        "      <th>66 </th>\n",
        "      <td> 2</td>\n",
        "      <td>   F33</td>\n",
        "      <td> 1</td>\n",
        "    </tr>\n",
        "    <tr>\n",
        "      <th>75 </th>\n",
        "      <td> 3</td>\n",
        "      <td> F G73</td>\n",
        "      <td> 0</td>\n",
        "    </tr>\n",
        "    <tr>\n",
        "      <th>123</th>\n",
        "      <td> 2</td>\n",
        "      <td>  E101</td>\n",
        "      <td> 1</td>\n",
        "    </tr>\n",
        "    <tr>\n",
        "      <th>128</th>\n",
        "      <td> 3</td>\n",
        "      <td> F E69</td>\n",
        "      <td> 1</td>\n",
        "    </tr>\n",
        "    <tr>\n",
        "      <th>148</th>\n",
        "      <td> 2</td>\n",
        "      <td>    F2</td>\n",
        "      <td> 0</td>\n",
        "    </tr>\n",
        "    <tr>\n",
        "      <th>183</th>\n",
        "      <td> 2</td>\n",
        "      <td>    F4</td>\n",
        "      <td> 1</td>\n",
        "    </tr>\n",
        "    <tr>\n",
        "      <th>193</th>\n",
        "      <td> 2</td>\n",
        "      <td>    F2</td>\n",
        "      <td> 1</td>\n",
        "    </tr>\n",
        "    <tr>\n",
        "      <th>205</th>\n",
        "      <td> 3</td>\n",
        "      <td>    G6</td>\n",
        "      <td> 0</td>\n",
        "    </tr>\n",
        "    <tr>\n",
        "      <th>251</th>\n",
        "      <td> 3</td>\n",
        "      <td>    G6</td>\n",
        "      <td> 0</td>\n",
        "    </tr>\n",
        "    <tr>\n",
        "      <th>292</th>\n",
        "      <td> 2</td>\n",
        "      <td>     D</td>\n",
        "      <td> 0</td>\n",
        "    </tr>\n",
        "    <tr>\n",
        "      <th>303</th>\n",
        "      <td> 2</td>\n",
        "      <td>  E101</td>\n",
        "      <td> 1</td>\n",
        "    </tr>\n",
        "    <tr>\n",
        "      <th>327</th>\n",
        "      <td> 2</td>\n",
        "      <td>     D</td>\n",
        "      <td> 1</td>\n",
        "    </tr>\n",
        "    <tr>\n",
        "      <th>340</th>\n",
        "      <td> 2</td>\n",
        "      <td>    F2</td>\n",
        "      <td> 1</td>\n",
        "    </tr>\n",
        "    <tr>\n",
        "      <th>345</th>\n",
        "      <td> 2</td>\n",
        "      <td>   F33</td>\n",
        "      <td> 1</td>\n",
        "    </tr>\n",
        "    <tr>\n",
        "      <th>394</th>\n",
        "      <td> 3</td>\n",
        "      <td>    G6</td>\n",
        "      <td> 1</td>\n",
        "    </tr>\n",
        "    <tr>\n",
        "      <th>429</th>\n",
        "      <td> 3</td>\n",
        "      <td>   E10</td>\n",
        "      <td> 1</td>\n",
        "    </tr>\n",
        "    <tr>\n",
        "      <th>473</th>\n",
        "      <td> 2</td>\n",
        "      <td>     D</td>\n",
        "      <td> 1</td>\n",
        "    </tr>\n",
        "    <tr>\n",
        "      <th>516</th>\n",
        "      <td> 2</td>\n",
        "      <td>   F33</td>\n",
        "      <td> 1</td>\n",
        "    </tr>\n",
        "    <tr>\n",
        "      <th>618</th>\n",
        "      <td> 2</td>\n",
        "      <td>    F4</td>\n",
        "      <td> 1</td>\n",
        "    </tr>\n",
        "    <tr>\n",
        "      <th>699</th>\n",
        "      <td> 3</td>\n",
        "      <td> F G63</td>\n",
        "      <td> 0</td>\n",
        "    </tr>\n",
        "    <tr>\n",
        "      <th>715</th>\n",
        "      <td> 3</td>\n",
        "      <td> F G73</td>\n",
        "      <td> 0</td>\n",
        "    </tr>\n",
        "    <tr>\n",
        "      <th>717</th>\n",
        "      <td> 2</td>\n",
        "      <td>  E101</td>\n",
        "      <td> 1</td>\n",
        "    </tr>\n",
        "    <tr>\n",
        "      <th>751</th>\n",
        "      <td> 3</td>\n",
        "      <td>  E121</td>\n",
        "      <td> 1</td>\n",
        "    </tr>\n",
        "    <tr>\n",
        "      <th>772</th>\n",
        "      <td> 2</td>\n",
        "      <td>   E77</td>\n",
        "      <td> 0</td>\n",
        "    </tr>\n",
        "    <tr>\n",
        "      <th>776</th>\n",
        "      <td> 3</td>\n",
        "      <td>   F38</td>\n",
        "      <td> 0</td>\n",
        "    </tr>\n",
        "    <tr>\n",
        "      <th>823</th>\n",
        "      <td> 3</td>\n",
        "      <td>  E121</td>\n",
        "      <td> 1</td>\n",
        "    </tr>\n",
        "  </tbody>\n",
        "</table>\n",
        "</div>"
       ],
       "metadata": {},
       "output_type": "pyout",
       "prompt_number": 77,
       "text": [
        "     Pclass  Cabin  Survived\n",
        "10        3     G6         1\n",
        "21        2    D56         1\n",
        "66        2    F33         1\n",
        "75        3  F G73         0\n",
        "123       2   E101         1\n",
        "128       3  F E69         1\n",
        "148       2     F2         0\n",
        "183       2     F4         1\n",
        "193       2     F2         1\n",
        "205       3     G6         0\n",
        "251       3     G6         0\n",
        "292       2      D         0\n",
        "303       2   E101         1\n",
        "327       2      D         1\n",
        "340       2     F2         1\n",
        "345       2    F33         1\n",
        "394       3     G6         1\n",
        "429       3    E10         1\n",
        "473       2      D         1\n",
        "516       2    F33         1\n",
        "618       2     F4         1\n",
        "699       3  F G63         0\n",
        "715       3  F G73         0\n",
        "717       2   E101         1\n",
        "751       3   E121         1\n",
        "772       2    E77         0\n",
        "776       3    F38         0\n",
        "823       3   E121         1"
       ]
      }
     ],
     "prompt_number": 77
    },
    {
     "cell_type": "code",
     "collapsed": false,
     "input": [
      "Pclass = 3\n",
      "data = rand(3,len(t[Pclass]))\n",
      "data[0,:] = pd.Series(t[Pclass]['Survived'])\n",
      "data[1,:] = pd.Series(t[Pclass]['Age'])\n",
      "data[2,:] = pd.Series(t[Pclass]['Fare'])\n",
      "\n",
      "plt.figure()\n",
      "R = corrcoef(data)\n",
      "plt.pcolor(abs(R))\n",
      "plt.colorbar()\n",
      "plt.show()"
     ],
     "language": "python",
     "metadata": {},
     "outputs": [
      {
       "metadata": {},
       "output_type": "display_data",
       "png": "[encoded data removed]",
       "text": [
        "<matplotlib.figure.Figure at 0x10d18bb50>"
       ]
      }
     ],
     "prompt_number": 7
    },
    {
     "cell_type": "code",
     "collapsed": false,
     "input": [
      "from sklearn import tree\n",
      "clf = tree.DecisionTreeClassifier(criterion='entropy', max_depth=3,min_samples_leaf=5)\n",
      "clf = clf.fit(ttt[['SexL','isClass1','isClass2','intercept']],ttt['Survived'])\n",
      "export_graphviz(clf, out_file=\"essai_dot_data_tree\",feature_names=['SexL','isClass1','isClass2','intercept'])"
     ],
     "language": "python",
     "metadata": {},
     "outputs": [],
     "prompt_number": 29
    },
    {
     "cell_type": "code",
     "collapsed": false,
     "input": [
      "from sklearn.ensemble import RandomForestClassifier\n",
      "from sklearn.tree import export_graphviz\n",
      "from sklearn import cross_validation\n",
      "\n",
      "for i in range(1,len(cols)):\n",
      "    forest = RandomForestClassifier(n_estimators = 100)\n",
      "    scores = cross_validation.cross_val_score(forest, pd[cols], pd['Label'], cv=5)\n",
      "    forest = forest.fit(ttt[cols[0:i]],ttt['Survived'])\n",
      "    print(i,forest.score(ttt[cols[0:i]],ttt['Survived']),cols[0:i])\n",
      "print(forest.feature_importances_)\n",
      "test.isnull().any(axis=1)#type(export_graphviz(forest.estimators_[0]))\n",
      "#export_graphviz(forest.estimators_[0], out_file=\"essai_dot_data\",feature_names=['SexL','isClass1','isClass2','intercept']) "
     ],
     "language": "python",
     "metadata": {},
     "outputs": [
      {
       "output_type": "stream",
       "stream": "stdout",
       "text": [
        "(1, 0.78011204481792717, ['SexL'])\n",
        "(2, 0.78011204481792717, ['SexL', 'isClass1'])"
       ]
      },
      {
       "output_type": "stream",
       "stream": "stdout",
       "text": [
        "\n",
        "(3, 0.79131652661064422, ['SexL', 'isClass1', 'isClass2'])"
       ]
      },
      {
       "output_type": "stream",
       "stream": "stdout",
       "text": [
        "\n",
        "(4, 0.79131652661064422, ['SexL', 'isClass1', 'isClass2', 'isClass3'])"
       ]
      },
      {
       "output_type": "stream",
       "stream": "stdout",
       "text": [
        "\n",
        "(5, 0.89635854341736698, ['SexL', 'isClass1', 'isClass2', 'isClass3', 'Age'])"
       ]
      },
      {
       "output_type": "stream",
       "stream": "stdout",
       "text": [
        "\n",
        "(6, 0.98459383753501406, ['SexL', 'isClass1', 'isClass2', 'isClass3', 'Age', 'Fare'])"
       ]
      },
      {
       "output_type": "stream",
       "stream": "stdout",
       "text": [
        "\n",
        "[ 0.26285978  0.03225961  0.02006384  0.05866299  0.32051447  0.30563931]\n"
       ]
      },
      {
       "metadata": {},
       "output_type": "pyout",
       "prompt_number": 59,
       "text": [
        "0      True\n",
        "1      True\n",
        "2      True\n",
        "3      True\n",
        "4      True\n",
        "5      True\n",
        "6      True\n",
        "7      True\n",
        "8      True\n",
        "9      True\n",
        "10     True\n",
        "11     True\n",
        "12    False\n",
        "13     True\n",
        "14    False\n",
        "...\n",
        "403     True\n",
        "404    False\n",
        "405    False\n",
        "406     True\n",
        "407    False\n",
        "408     True\n",
        "409     True\n",
        "410     True\n",
        "411    False\n",
        "412     True\n",
        "413     True\n",
        "414    False\n",
        "415     True\n",
        "416     True\n",
        "417     True\n",
        "Length: 418, dtype: bool"
       ]
      }
     ],
     "prompt_number": 59
    },
    {
     "cell_type": "code",
     "collapsed": false,
     "input": [
      "in_rows_logit = ['SexM', 'relativeA','isClass2','isClass3','EmbarkedQ','EmbarkedS','AgeC']\n",
      "in_rows_logit.append('intercept')\n",
      "logit = sm.Logit(titanic['Survived'], titanic[in_rows_logit])\n",
      "result=logit.fit()\n"
     ],
     "language": "python",
     "metadata": {},
     "outputs": [
      {
       "output_type": "stream",
       "stream": "stdout",
       "text": [
        "Optimization terminated successfully.\n",
        "         Current function value: 0.418902\n",
        "         Iterations 6\n"
       ]
      }
     ],
     "prompt_number": 378
    },
    {
     "cell_type": "code",
     "collapsed": false,
     "input": [],
     "language": "python",
     "metadata": {},
     "outputs": [],
     "prompt_number": 378
    },
    {
     "cell_type": "code",
     "collapsed": false,
     "input": [
      "def pz(passager,coeff):\n",
      "    z=0\n",
      "    for i in coeff.index:\n",
      "        z += coeff[i]*passager[i]\n",
      "    return 1/(1+exp(-1*z))"
     ],
     "language": "python",
     "metadata": {},
     "outputs": [],
     "prompt_number": 379
    },
    {
     "cell_type": "code",
     "collapsed": false,
     "input": [
      "essai = []\n",
      "for i in ttt.iterrows():\n",
      "    prev=pz(i[1],coeff)\n",
      "    essai.append([prev,(prev>.5)==i[1][\"Survived\"] , prev, (prev>.6), (prev<.4)])\n",
      "float(reduce(lambda p,c:p+c[1],essai,0))/len(ttt)"
     ],
     "language": "python",
     "metadata": {},
     "outputs": [
      {
       "metadata": {},
       "output_type": "pyout",
       "prompt_number": 380,
       "text": [
        "0.8080808080808081"
       ]
      }
     ],
     "prompt_number": 380
    },
    {
     "cell_type": "code",
     "collapsed": false,
     "input": [],
     "language": "python",
     "metadata": {},
     "outputs": [],
     "prompt_number": 380
    },
    {
     "cell_type": "code",
     "collapsed": false,
     "input": [
      "soumission = []\n",
      "for i in test.iterrows():\n",
      "    prev=pz(i[1],coeff)\n",
      "    soumission.append([i[1][\"PassengerId\"],(prev>.5) , prev, (prev>.6), (prev<.4)])"
     ],
     "language": "python",
     "metadata": {},
     "outputs": [],
     "prompt_number": 381
    },
    {
     "cell_type": "code",
     "collapsed": false,
     "input": [
      "reduce(lambda p,c : p + (0,1)[c[1]],soumission,0)"
     ],
     "language": "python",
     "metadata": {},
     "outputs": [
      {
       "metadata": {},
       "output_type": "pyout",
       "prompt_number": 382,
       "text": [
        "156"
       ]
      }
     ],
     "prompt_number": 382
    },
    {
     "cell_type": "code",
     "collapsed": false,
     "input": [],
     "language": "python",
     "metadata": {},
     "outputs": [],
     "prompt_number": 376
    },
    {
     "cell_type": "code",
     "collapsed": false,
     "input": [],
     "language": "python",
     "metadata": {},
     "outputs": [],
     "prompt_number": 238
    },
    {
     "cell_type": "code",
     "collapsed": false,
     "input": [
      "import csv\n",
      "myfile = open('th.csv', 'wb')\n",
      "wr = csv.writer(myfile,delimiter=',',quoting=csv.QUOTE_NONE, escapechar =\" \")\n",
      "wr.writerow(('PassengerId', 'Survived'))\n",
      "wr.writerows([(x[0], int(x[1])) for x in soumission])\n",
      "myfile.close()"
     ],
     "language": "python",
     "metadata": {},
     "outputs": [],
     "prompt_number": 249
    },
    {
     "cell_type": "code",
     "collapsed": false,
     "input": [],
     "language": "python",
     "metadata": {},
     "outputs": [],
     "prompt_number": 239
    },
    {
     "cell_type": "code",
     "collapsed": false,
     "input": [],
     "language": "python",
     "metadata": {},
     "outputs": [],
     "prompt_number": 249
    },
    {
     "cell_type": "code",
     "collapsed": false,
     "input": [],
     "language": "python",
     "metadata": {},
     "outputs": [],
     "prompt_number": 368
    },
    {
     "cell_type": "code",
     "collapsed": false,
     "input": [
      "from sklearn.ensemble import ExtraTreesClassifier\n",
      "from sklearn import cross_validation\n",
      "import itertools\n",
      "\n",
      "cols = ['SexM','FareC','isClass1','isClass2','AgeC','relative','relativeA','ticket_nb','Embarkednan','isClass3','AgeD','EmbarkedQ','SibSp','Parch','EmbarkedS','EmbarkedC','intercept']\n",
      "the_cols = cols[0:-1]\n",
      "in_rows = []\n",
      "\n",
      "for count in range(0,len(the_cols)):\n",
      "    result = []\n",
      "    for i in the_cols:  \n",
      "        forest = RandomForestClassifier(n_estimators = 100)\n",
      "        #forest = ExtraTreesClassifier(bootstrap=False, compute_importances=None,criterion='gini', max_depth=None, max_features='auto',max_leaf_nodes=None, min_density=None, min_samples_leaf=1,min_samples_split=2, n_estimators=100, n_jobs=1,oob_score=False, random_state=None, verbose=0)\n",
      "        scores = cross_validation.cross_val_score(forest, titanic[in_rows + [i]], titanic['Survived'], cv=3)\n",
      "        result.append([scores, i])\n",
      "        #print(\"Accuracy: %0.2f (+/- %0.2f)\" % (scores.mean(), scores.std() * 2),i,len(in_rows))\n",
      "    #forest = forest.fit(titanic[cols[0:i]], titanic['Survived'])\n",
      "    #print(sorted(zip(cols[0:i],forest.feature_importances_),key=lambda x:-x[1]))\n",
      "    result=sorted(result,key=lambda x:-x[0].mean()+2*x[0].std())\n",
      "    actual = result[0]\n",
      "    in_rows.append(actual[1])\n",
      "    del the_cols[the_cols.index(actual[1])]\n",
      "\n",
      "print(in_rows)\n",
      "#type(export_graphviz(forest.estimators_[0]))\n",
      "#export_graphviz(forest.estimators_[0], out_file=\"essai_dot_data\",feature_names=['SexL','isClass1','isClass2','intercept']) "
     ],
     "language": "python",
     "metadata": {},
     "outputs": [
      {
       "output_type": "stream",
       "stream": "stdout",
       "text": [
        "['SexM', 'relativeA', 'isClass3', 'SibSp', 'relative', 'Embarkednan', 'ticket_nb', 'Parch', 'EmbarkedS', 'isClass2', 'EmbarkedQ', 'isClass1', 'EmbarkedC', 'FareC', 'AgeC', 'AgeD']\n"
       ]
      }
     ],
     "prompt_number": 35
    },
    {
     "cell_type": "code",
     "collapsed": false,
     "input": [
      "import csv\n",
      "n_dim=3\n",
      "print(in_rows[0:n_dim])\n",
      "\n",
      "forest = forest.fit(titanic[list(('SexM', 'relative', 'EmbarkedQ', 'Embarkednan', 'isClass2','isClass3'))], titanic['Survived'])\n",
      "ab_n = zip(test[\"PassengerId\"],forest.predict(test[list(('SexM', 'relative', 'EmbarkedQ', 'Embarkednan', 'isClass2','isClass3'))]))\n",
      "myfile = open('rf.csv', 'wb')\n",
      "wr = csv.writer(myfile,delimiter=',',quoting=csv.QUOTE_NONE, escapechar =\" \")\n",
      "wr.writerow(('PassengerId', 'Survived'))\n",
      "wr.writerows(((x[0], int(x[1])) for x in ab))\n",
      "myfile.close()"
     ],
     "language": "python",
     "metadata": {},
     "outputs": [
      {
       "output_type": "stream",
       "stream": "stdout",
       "text": [
        "['SexM', 'relative', 'Embarkednan']\n"
       ]
      }
     ],
     "prompt_number": 303
    },
    {
     "cell_type": "code",
     "collapsed": false,
     "input": [
      "from sklearn.ensemble import ExtraTreesClassifier\n",
      "from sklearn import cross_validation\n",
      "import itertools\n",
      "\n",
      "#cols = ['SexM','FareC','isClass1','isClass2','AgeC','relative','Embarked','isClass3','AgeD','EmbarkedQ','SibSp','Parch','EmbarkedS','EmbarkedC','intercept']\n",
      "the_cols = in_rows[0:7]+['SexL']\n",
      "result = []\n",
      "for i in itertools.combinations(the_cols,5):  \n",
      "    #forest = RandomForestClassifier(n_estimators = 100)\n",
      "    forest = ExtraTreesClassifier(bootstrap=False, compute_importances=None,criterion='gini', max_depth=None, max_features='auto',max_leaf_nodes=None, min_density=None, min_samples_leaf=1,min_samples_split=2, n_estimators=100, n_jobs=1,oob_score=False, random_state=None, verbose=0)\n",
      "    scores = cross_validation.cross_val_score(forest, titanic[list(i)], titanic['Survived'], cv=5)\n",
      "    result.append([scores, i])\n",
      "    print(\"Accuracy: %0.2f (+/- %0.2f)\" % (scores.mean(), scores.std() * 2),i,len(in_rows))\n"
     ],
     "language": "python",
     "metadata": {},
     "outputs": [
      {
       "output_type": "stream",
       "stream": "stdout",
       "text": [
        "('Accuracy: 0.82 (+/- 0.03)', ('SexM', 'relativeA', 'isClass3', 'SibSp', 'relative'), 16)\n",
        "('Accuracy: 0.83 (+/- 0.03)', ('SexM', 'relativeA', 'isClass3', 'SibSp', 'Embarkednan'), 16)"
       ]
      },
      {
       "output_type": "stream",
       "stream": "stdout",
       "text": [
        "\n",
        "('Accuracy: 0.83 (+/- 0.03)', ('SexM', 'relativeA', 'isClass3', 'SibSp', 'ticket_nb'), 16)"
       ]
      },
      {
       "output_type": "stream",
       "stream": "stdout",
       "text": [
        "\n",
        "('Accuracy: 0.82 (+/- 0.02)', ('SexM', 'relativeA', 'isClass3', 'SibSp', 'SexL'), 16)"
       ]
      },
      {
       "output_type": "stream",
       "stream": "stdout",
       "text": [
        "\n",
        "('Accuracy: 0.83 (+/- 0.02)', ('SexM', 'relativeA', 'isClass3', 'relative', 'Embarkednan'), 16)"
       ]
      },
      {
       "output_type": "stream",
       "stream": "stdout",
       "text": [
        "\n",
        "('Accuracy: 0.83 (+/- 0.02)', ('SexM', 'relativeA', 'isClass3', 'relative', 'ticket_nb'), 16)"
       ]
      },
      {
       "output_type": "stream",
       "stream": "stdout",
       "text": [
        "\n",
        "('Accuracy: 0.84 (+/- 0.02)', ('SexM', 'relativeA', 'isClass3', 'relative', 'SexL'), 16)"
       ]
      },
      {
       "output_type": "stream",
       "stream": "stdout",
       "text": [
        "\n",
        "('Accuracy: 0.83 (+/- 0.02)', ('SexM', 'relativeA', 'isClass3', 'Embarkednan', 'ticket_nb'), 16)"
       ]
      },
      {
       "output_type": "stream",
       "stream": "stdout",
       "text": [
        "\n",
        "('Accuracy: 0.84 (+/- 0.03)', ('SexM', 'relativeA', 'isClass3', 'Embarkednan', 'SexL'), 16)"
       ]
      },
      {
       "output_type": "stream",
       "stream": "stdout",
       "text": [
        "\n",
        "('Accuracy: 0.83 (+/- 0.02)', ('SexM', 'relativeA', 'isClass3', 'ticket_nb', 'SexL'), 16)"
       ]
      },
      {
       "output_type": "stream",
       "stream": "stdout",
       "text": [
        "\n",
        "('Accuracy: 0.82 (+/- 0.04)', ('SexM', 'relativeA', 'SibSp', 'relative', 'Embarkednan'), 16)"
       ]
      },
      {
       "output_type": "stream",
       "stream": "stdout",
       "text": [
        "\n",
        "('Accuracy: 0.83 (+/- 0.04)', ('SexM', 'relativeA', 'SibSp', 'relative', 'ticket_nb'), 16)"
       ]
      },
      {
       "output_type": "stream",
       "stream": "stdout",
       "text": [
        "\n",
        "('Accuracy: 0.83 (+/- 0.05)', ('SexM', 'relativeA', 'SibSp', 'relative', 'SexL'), 16)"
       ]
      },
      {
       "output_type": "stream",
       "stream": "stdout",
       "text": [
        "\n",
        "('Accuracy: 0.83 (+/- 0.04)', ('SexM', 'relativeA', 'SibSp', 'Embarkednan', 'ticket_nb'), 16)"
       ]
      },
      {
       "output_type": "stream",
       "stream": "stdout",
       "text": [
        "\n",
        "('Accuracy: 0.83 (+/- 0.06)', ('SexM', 'relativeA', 'SibSp', 'Embarkednan', 'SexL'), 16)"
       ]
      },
      {
       "output_type": "stream",
       "stream": "stdout",
       "text": [
        "\n",
        "('Accuracy: 0.83 (+/- 0.06)', ('SexM', 'relativeA', 'SibSp', 'ticket_nb', 'SexL'), 16)"
       ]
      },
      {
       "output_type": "stream",
       "stream": "stdout",
       "text": [
        "\n",
        "('Accuracy: 0.83 (+/- 0.04)', ('SexM', 'relativeA', 'relative', 'Embarkednan', 'ticket_nb'), 16)"
       ]
      },
      {
       "output_type": "stream",
       "stream": "stdout",
       "text": [
        "\n",
        "('Accuracy: 0.83 (+/- 0.04)', ('SexM', 'relativeA', 'relative', 'Embarkednan', 'SexL'), 16)"
       ]
      },
      {
       "output_type": "stream",
       "stream": "stdout",
       "text": [
        "\n",
        "('Accuracy: 0.83 (+/- 0.04)', ('SexM', 'relativeA', 'relative', 'ticket_nb', 'SexL'), 16)"
       ]
      },
      {
       "output_type": "stream",
       "stream": "stdout",
       "text": [
        "\n",
        "('Accuracy: 0.83 (+/- 0.04)', ('SexM', 'relativeA', 'Embarkednan', 'ticket_nb', 'SexL'), 16)"
       ]
      },
      {
       "output_type": "stream",
       "stream": "stdout",
       "text": [
        "\n",
        "('Accuracy: 0.82 (+/- 0.02)', ('SexM', 'isClass3', 'SibSp', 'relative', 'Embarkednan'), 16)"
       ]
      },
      {
       "output_type": "stream",
       "stream": "stdout",
       "text": [
        "\n",
        "('Accuracy: 0.83 (+/- 0.03)', ('SexM', 'isClass3', 'SibSp', 'relative', 'ticket_nb'), 16)"
       ]
      },
      {
       "output_type": "stream",
       "stream": "stdout",
       "text": [
        "\n",
        "('Accuracy: 0.82 (+/- 0.03)', ('SexM', 'isClass3', 'SibSp', 'relative', 'SexL'), 16)"
       ]
      },
      {
       "output_type": "stream",
       "stream": "stdout",
       "text": [
        "\n",
        "('Accuracy: 0.82 (+/- 0.04)', ('SexM', 'isClass3', 'SibSp', 'Embarkednan', 'ticket_nb'), 16)"
       ]
      },
      {
       "output_type": "stream",
       "stream": "stdout",
       "text": [
        "\n",
        "('Accuracy: 0.82 (+/- 0.05)', ('SexM', 'isClass3', 'SibSp', 'Embarkednan', 'SexL'), 16)"
       ]
      },
      {
       "output_type": "stream",
       "stream": "stdout",
       "text": [
        "\n",
        "('Accuracy: 0.82 (+/- 0.02)', ('SexM', 'isClass3', 'SibSp', 'ticket_nb', 'SexL'), 16)"
       ]
      },
      {
       "output_type": "stream",
       "stream": "stdout",
       "text": [
        "\n",
        "('Accuracy: 0.83 (+/- 0.02)', ('SexM', 'isClass3', 'relative', 'Embarkednan', 'ticket_nb'), 16)"
       ]
      },
      {
       "output_type": "stream",
       "stream": "stdout",
       "text": [
        "\n",
        "('Accuracy: 0.82 (+/- 0.04)', ('SexM', 'isClass3', 'relative', 'Embarkednan', 'SexL'), 16)"
       ]
      },
      {
       "output_type": "stream",
       "stream": "stdout",
       "text": [
        "\n",
        "('Accuracy: 0.84 (+/- 0.02)', ('SexM', 'isClass3', 'relative', 'ticket_nb', 'SexL'), 16)"
       ]
      },
      {
       "output_type": "stream",
       "stream": "stdout",
       "text": [
        "\n",
        "('Accuracy: 0.81 (+/- 0.03)', ('SexM', 'isClass3', 'Embarkednan', 'ticket_nb', 'SexL'), 16)"
       ]
      },
      {
       "output_type": "stream",
       "stream": "stdout",
       "text": [
        "\n",
        "('Accuracy: 0.83 (+/- 0.04)', ('SexM', 'SibSp', 'relative', 'Embarkednan', 'ticket_nb'), 16)"
       ]
      },
      {
       "output_type": "stream",
       "stream": "stdout",
       "text": [
        "\n",
        "('Accuracy: 0.81 (+/- 0.05)', ('SexM', 'SibSp', 'relative', 'Embarkednan', 'SexL'), 16)"
       ]
      },
      {
       "output_type": "stream",
       "stream": "stdout",
       "text": [
        "\n",
        "('Accuracy: 0.83 (+/- 0.05)', ('SexM', 'SibSp', 'relative', 'ticket_nb', 'SexL'), 16)"
       ]
      },
      {
       "output_type": "stream",
       "stream": "stdout",
       "text": [
        "\n",
        "('Accuracy: 0.82 (+/- 0.06)', ('SexM', 'SibSp', 'Embarkednan', 'ticket_nb', 'SexL'), 16)"
       ]
      },
      {
       "output_type": "stream",
       "stream": "stdout",
       "text": [
        "\n",
        "('Accuracy: 0.83 (+/- 0.04)', ('SexM', 'relative', 'Embarkednan', 'ticket_nb', 'SexL'), 16)"
       ]
      },
      {
       "output_type": "stream",
       "stream": "stdout",
       "text": [
        "\n",
        "('Accuracy: 0.71 (+/- 0.09)', ('relativeA', 'isClass3', 'SibSp', 'relative', 'Embarkednan'), 16)"
       ]
      },
      {
       "output_type": "stream",
       "stream": "stdout",
       "text": [
        "\n",
        "('Accuracy: 0.71 (+/- 0.09)', ('relativeA', 'isClass3', 'SibSp', 'relative', 'ticket_nb'), 16)"
       ]
      },
      {
       "output_type": "stream",
       "stream": "stdout",
       "text": [
        "\n",
        "('Accuracy: 0.79 (+/- 0.03)', ('relativeA', 'isClass3', 'SibSp', 'relative', 'SexL'), 16)"
       ]
      },
      {
       "output_type": "stream",
       "stream": "stdout",
       "text": [
        "\n",
        "('Accuracy: 0.71 (+/- 0.09)', ('relativeA', 'isClass3', 'SibSp', 'Embarkednan', 'ticket_nb'), 16)"
       ]
      },
      {
       "output_type": "stream",
       "stream": "stdout",
       "text": [
        "\n",
        "('Accuracy: 0.79 (+/- 0.03)', ('relativeA', 'isClass3', 'SibSp', 'Embarkednan', 'SexL'), 16)"
       ]
      },
      {
       "output_type": "stream",
       "stream": "stdout",
       "text": [
        "\n",
        "('Accuracy: 0.80 (+/- 0.03)', ('relativeA', 'isClass3', 'SibSp', 'ticket_nb', 'SexL'), 16)"
       ]
      },
      {
       "output_type": "stream",
       "stream": "stdout",
       "text": [
        "\n",
        "('Accuracy: 0.72 (+/- 0.08)', ('relativeA', 'isClass3', 'relative', 'Embarkednan', 'ticket_nb'), 16)"
       ]
      },
      {
       "output_type": "stream",
       "stream": "stdout",
       "text": [
        "\n",
        "('Accuracy: 0.81 (+/- 0.02)', ('relativeA', 'isClass3', 'relative', 'Embarkednan', 'SexL'), 16)"
       ]
      },
      {
       "output_type": "stream",
       "stream": "stdout",
       "text": [
        "\n",
        "('Accuracy: 0.81 (+/- 0.02)', ('relativeA', 'isClass3', 'relative', 'ticket_nb', 'SexL'), 16)"
       ]
      },
      {
       "output_type": "stream",
       "stream": "stdout",
       "text": [
        "\n",
        "('Accuracy: 0.81 (+/- 0.02)', ('relativeA', 'isClass3', 'Embarkednan', 'ticket_nb', 'SexL'), 16)"
       ]
      },
      {
       "output_type": "stream",
       "stream": "stdout",
       "text": [
        "\n",
        "('Accuracy: 0.69 (+/- 0.05)', ('relativeA', 'SibSp', 'relative', 'Embarkednan', 'ticket_nb'), 16)"
       ]
      },
      {
       "output_type": "stream",
       "stream": "stdout",
       "text": [
        "\n",
        "('Accuracy: 0.80 (+/- 0.05)', ('relativeA', 'SibSp', 'relative', 'Embarkednan', 'SexL'), 16)"
       ]
      },
      {
       "output_type": "stream",
       "stream": "stdout",
       "text": [
        "\n",
        "('Accuracy: 0.80 (+/- 0.05)', ('relativeA', 'SibSp', 'relative', 'ticket_nb', 'SexL'), 16)"
       ]
      },
      {
       "output_type": "stream",
       "stream": "stdout",
       "text": [
        "\n",
        "('Accuracy: 0.79 (+/- 0.05)', ('relativeA', 'SibSp', 'Embarkednan', 'ticket_nb', 'SexL'), 16)"
       ]
      },
      {
       "output_type": "stream",
       "stream": "stdout",
       "text": [
        "\n",
        "('Accuracy: 0.80 (+/- 0.06)', ('relativeA', 'relative', 'Embarkednan', 'ticket_nb', 'SexL'), 16)"
       ]
      },
      {
       "output_type": "stream",
       "stream": "stdout",
       "text": [
        "\n",
        "('Accuracy: 0.71 (+/- 0.09)', ('isClass3', 'SibSp', 'relative', 'Embarkednan', 'ticket_nb'), 16)"
       ]
      },
      {
       "output_type": "stream",
       "stream": "stdout",
       "text": [
        "\n",
        "('Accuracy: 0.79 (+/- 0.02)', ('isClass3', 'SibSp', 'relative', 'Embarkednan', 'SexL'), 16)"
       ]
      },
      {
       "output_type": "stream",
       "stream": "stdout",
       "text": [
        "\n",
        "('Accuracy: 0.80 (+/- 0.02)', ('isClass3', 'SibSp', 'relative', 'ticket_nb', 'SexL'), 16)"
       ]
      },
      {
       "output_type": "stream",
       "stream": "stdout",
       "text": [
        "\n",
        "('Accuracy: 0.80 (+/- 0.02)', ('isClass3', 'SibSp', 'Embarkednan', 'ticket_nb', 'SexL'), 16)"
       ]
      },
      {
       "output_type": "stream",
       "stream": "stdout",
       "text": [
        "\n",
        "('Accuracy: 0.81 (+/- 0.03)', ('isClass3', 'relative', 'Embarkednan', 'ticket_nb', 'SexL'), 16)"
       ]
      },
      {
       "output_type": "stream",
       "stream": "stdout",
       "text": [
        "\n",
        "('Accuracy: 0.80 (+/- 0.05)', ('SibSp', 'relative', 'Embarkednan', 'ticket_nb', 'SexL'), 16)"
       ]
      },
      {
       "output_type": "stream",
       "stream": "stdout",
       "text": [
        "\n"
       ]
      }
     ],
     "prompt_number": 38
    },
    {
     "cell_type": "code",
     "collapsed": false,
     "input": [
      "from sklearn.tree import DecisionTreeClassifier\n",
      "from sklearn.ensemble import (RandomForestClassifier, ExtraTreesClassifier,AdaBoostClassifier)\n",
      "from sklearn import cross_validation\n",
      "from sklearn import clone\n",
      "# Parameters\n",
      "n_classes = 2\n",
      "n_estimators = 100\n",
      "RANDOM_SEED = 45  # fix the seed on each iteration\n",
      "\n",
      "\n",
      "models = [\n",
      "          DecisionTreeClassifier(max_depth=10),\n",
      "          #RandomForestClassifier(n_estimators=n_estimators),\n",
      "          #ExtraTreesClassifier(n_estimators=5),\n",
      "          #AdaBoostClassifier(DecisionTreeClassifier(max_depth=10),n_estimators=n_estimators)\n",
      "]\n",
      "\n",
      "cols=['SexM', 'relativeA', 'isClass3', 'SibSp', 'relative', 'ticket_nb', 'Parch', 'EmbarkedS', 'isClass2', 'EmbarkedQ', 'isClass1', 'EmbarkedC', 'FareC', 'AgeC', 'AgeD']\n",
      "for i in range(1,len(cols)):\n",
      "    X_train, X_test,y_train , y_test = cross_validation.train_test_split(titanic[cols[0:i]],titanic['Survived'],test_size=0.15,random_state=12312)\n",
      "    idx = np.arange(X_train.shape[0])\n",
      "    np.random.seed(RANDOM_SEED)\n",
      "    np.random.shuffle(idx)\n",
      "    X_train = X_train[idx]\n",
      "    y_train = y_train[idx]\n",
      "    mean = X_train.mean(axis=0)\n",
      "    std = X_train.std(axis=0)\n",
      "    X_train = (X_train - mean) / std\n",
      "    # Train\n",
      "    clf = clone(model)\n",
      "    clf = model.fit(X_train, y_train)\n",
      "    over_fit_score = clf.score(X_train, y_train)\n",
      "    scores = clf.score(X_test, y_test)\n",
      "    print(scores,over_fit_score)\n",
      "import csv\n",
      "forest = forest.fit(titanic[cols], titanic['Survived'])\n",
      "ab_e = zip(test[\"PassengerId\"],forest.predict(test[cols]))\n",
      "#myfile = open('extra.csv', 'wb')\n",
      "#wr = csv.writer(myfile,delimiter=',',quoting=csv.QUOTE_NONE, escapechar =\" \")\n",
      "#wr.writerow(('PassengerId', 'Survived'))\n",
      "#wr.writerows(((x[0], int(x[1])) for x in ab_e))\n",
      "#myfile.close()"
     ],
     "language": "python",
     "metadata": {},
     "outputs": [
      {
       "output_type": "stream",
       "stream": "stdout",
       "text": [
        "(0.58208955223880599, 0.78996036988110963)\n",
        "(0.58208955223880599, 0.83091149273447817)\n",
        "(0.58208955223880599, 0.84015852047556139)\n",
        "(0.58208955223880599, 0.84147952443857332)\n",
        "(0.61194029850746268, 0.84676354029062084)\n",
        "(0.59701492537313428, 0.84676354029062084)\n",
        "(0.59701492537313428, 0.84676354029062084)\n",
        "(0.59701492537313428, 0.86129458388375169)\n",
        "(0.59701492537313428, 0.86393659180977544)\n",
        "(0.59701492537313428, 0.86525759577278727)\n",
        "(0.58208955223880599, 0.8665785997357992)"
       ]
      },
      {
       "output_type": "stream",
       "stream": "stdout",
       "text": [
        "\n",
        "(0.58955223880597019, 0.8665785997357992)\n",
        "(0.66417910447761197, 0.90752972258916775)\n",
        "(0.56716417910447758, 0.93394980184940557)\n"
       ]
      }
     ],
     "prompt_number": 135
    },
    {
     "cell_type": "code",
     "collapsed": false,
     "input": [
      "my_tickets = {}\n",
      "for passager in titanic.iterrows():\n",
      "    if passager[1].Ticket in my_tickets:\n",
      "        my_tickets[passager[1].Ticket] += 1\n",
      "    else:\n",
      "        my_tickets[passager[1].Ticket] = 0"
     ],
     "language": "python",
     "metadata": {},
     "outputs": [],
     "prompt_number": 88
    },
    {
     "cell_type": "code",
     "collapsed": false,
     "input": [
      "import re\n",
      "regex = re.compile(\"([A-I])([0-9])+\")\n",
      "for cabin in titanic[titanic[\"Cabin\"].notnull()].Cabin.unique():\n",
      "    all = regex.findall(cabin)\n",
      "    if len(all) > 0:\n",
      "        print(cabin,all[0][0],all[0][1],ord(all[0][0])-64,int(all[0][1])%2)"
     ],
     "language": "python",
     "metadata": {},
     "outputs": [
      {
       "output_type": "stream",
       "stream": "stdout",
       "text": [
        "('C85', 'C', '5', 3, 1)\n",
        "('C123', 'C', '3', 3, 1)\n",
        "('E46', 'E', '6', 5, 0)\n",
        "('G6', 'G', '6', 7, 0)\n",
        "('C103', 'C', '3', 3, 1)\n",
        "('D56', 'D', '6', 4, 0)\n",
        "('A6', 'A', '6', 1, 0)\n",
        "('C23 C25 C27', 'C', '3', 3, 1)\n",
        "('B78', 'B', '8', 2, 0)\n",
        "('D33', 'D', '3', 4, 1)\n",
        "('B30', 'B', '0', 2, 0)\n",
        "('C52', 'C', '2', 3, 0)\n",
        "('B28', 'B', '8', 2, 0)\n",
        "('C83', 'C', '3', 3, 1)\n",
        "('F33', 'F', '3', 6, 1)\n",
        "('F G73', 'G', '3', 7, 1)\n",
        "('E31', 'E', '1', 5, 1)\n",
        "('A5', 'A', '5', 1, 1)\n",
        "('D10 D12', 'D', '0', 4, 0)\n",
        "('D26', 'D', '6', 4, 0)\n",
        "('C110', 'C', '0', 3, 0)\n",
        "('B58 B60', 'B', '8', 2, 0)\n",
        "('E101', 'E', '1', 5, 1)\n",
        "('F E69', 'E', '9', 5, 1)\n",
        "('D47', 'D', '7', 4, 1)\n",
        "('B86', 'B', '6', 2, 0)\n",
        "('F2', 'F', '2', 6, 0)\n",
        "('C2', 'C', '2', 3, 0)\n",
        "('E33', 'E', '3', 5, 1)\n",
        "('B19', 'B', '9', 2, 1)\n",
        "('A7', 'A', '7', 1, 1)\n",
        "('C49', 'C', '9', 3, 1)\n",
        "('F4', 'F', '4', 6, 0)\n",
        "('A32', 'A', '2', 1, 0)\n",
        "('B4', 'B', '4', 2, 0)\n",
        "('B80', 'B', '0', 2, 0)\n",
        "('A31', 'A', '1', 1, 1)\n",
        "('D36', 'D', '6', 4, 0)\n",
        "('D15', 'D', '5', 4, 1)\n",
        "('C93', 'C', '3', 3, 1)\n",
        "('C78', 'C', '8', 3, 0)\n",
        "('D35', 'D', '5', 4, 1)\n",
        "('C87', 'C', '7', 3, 1)\n",
        "('B77', 'B', '7', 2, 1)\n",
        "('E67', 'E', '7', 5, 1)\n",
        "('B94', 'B', '4', 2, 0)\n",
        "('C125', 'C', '5', 3, 1)\n",
        "('C99', 'C', '9', 3, 1)\n",
        "('C118', 'C', '8', 3, 0)\n",
        "('D7', 'D', '7', 4, 1)\n",
        "('A19', 'A', '9', 1, 1)\n",
        "('B49', 'B', '9', 2, 1)\n",
        "('C22 C26', 'C', '2', 3, 0)\n",
        "('C106', 'C', '6', 3, 0)\n",
        "('C65', 'C', '5', 3, 1)\n",
        "('E36', 'E', '6', 5, 0)\n",
        "('C54', 'C', '4', 3, 0)\n",
        "('B57 B59 B63 B66', 'B', '7', 2, 1)\n",
        "('C7', 'C', '7', 3, 1)\n",
        "('E34', 'E', '4', 5, 0)\n",
        "('C32', 'C', '2', 3, 0)\n",
        "('B18', 'B', '8', 2, 0)\n",
        "('C124', 'C', '4', 3, 0)\n",
        "('C91', 'C', '1', 3, 1)\n",
        "('E40', 'E', '0', 5, 0)\n",
        "('C128', 'C', '8', 3, 0)\n",
        "('D37', 'D', '7', 4, 1)\n",
        "('B35', 'B', '5', 2, 1)\n",
        "('E50', 'E', '0', 5, 0)\n",
        "('C82', 'C', '2', 3, 0)\n",
        "('B96 B98', 'B', '6', 2, 0)\n",
        "('E10', 'E', '0', 5, 0)\n",
        "('E44', 'E', '4', 5, 0)\n",
        "('A34', 'A', '4', 1, 0)\n",
        "('C104', 'C', '4', 3, 0)\n",
        "('C111', 'C', '1', 3, 1)\n",
        "('C92', 'C', '2', 3, 0)\n",
        "('E38', 'E', '8', 5, 0)\n",
        "('D21', 'D', '1', 4, 1)\n",
        "('E12', 'E', '2', 5, 0)\n",
        "('E63', 'E', '3', 5, 1)\n",
        "('A14', 'A', '4', 1, 0)\n",
        "('B37', 'B', '7', 2, 1)\n",
        "('C30', 'C', '0', 3, 0)\n",
        "('D20', 'D', '0', 4, 0)\n",
        "('B79', 'B', '9', 2, 1)\n",
        "('E25', 'E', '5', 5, 1)\n",
        "('D46', 'D', '6', 4, 0)\n",
        "('B73', 'B', '3', 2, 1)\n",
        "('C95', 'C', '5', 3, 1)\n",
        "('B38', 'B', '8', 2, 0)\n",
        "('B39', 'B', '9', 2, 1)\n",
        "('B22', 'B', '2', 2, 0)\n",
        "('C86', 'C', '6', 3, 0)\n",
        "('C70', 'C', '0', 3, 0)\n",
        "('A16', 'A', '6', 1, 0)\n",
        "('C101', 'C', '1', 3, 1)\n",
        "('C68', 'C', '8', 3, 0)\n",
        "('A10', 'A', '0', 1, 0)\n",
        "('E68', 'E', '8', 5, 0)\n",
        "('B41', 'B', '1', 2, 1)\n",
        "('A20', 'A', '0', 1, 0)\n",
        "('D19', 'D', '9', 4, 1)\n",
        "('D50', 'D', '0', 4, 0)\n",
        "('D9', 'D', '9', 4, 1)\n",
        "('A23', 'A', '3', 1, 1)\n",
        "('B50', 'B', '0', 2, 0)\n",
        "('A26', 'A', '6', 1, 0)\n",
        "('D48', 'D', '8', 4, 0)\n",
        "('E58', 'E', '8', 5, 0)\n",
        "('C126', 'C', '6', 3, 0)\n",
        "('B71', 'B', '1', 2, 1)\n",
        "('B51 B53 B55', 'B', '1', 2, 1)\n",
        "('D49', 'D', '9', 4, 1)\n",
        "('B5', 'B', '5', 2, 1)\n",
        "('B20', 'B', '0', 2, 0)\n",
        "('F G63', 'G', '3', 7, 1)\n",
        "('C62 C64', 'C', '2', 3, 0)\n",
        "('E24', 'E', '4', 5, 0)\n",
        "('C90', 'C', '0', 3, 0)\n",
        "('C45', 'C', '5', 3, 1)\n",
        "('E8', 'E', '8', 5, 0)\n",
        "('B101', 'B', '1', 2, 1)\n",
        "('D45', 'D', '5', 4, 1)\n",
        "('C46', 'C', '6', 3, 0)\n",
        "('D30', 'D', '0', 4, 0)\n",
        "('E121', 'E', '1', 5, 1)\n",
        "('D11', 'D', '1', 4, 1)\n",
        "('E77', 'E', '7', 5, 1)\n",
        "('F38', 'F', '8', 6, 0)\n",
        "('B3', 'B', '3', 2, 1)\n",
        "('D6', 'D', '6', 4, 0)\n",
        "('B82 B84', 'B', '2', 2, 0)\n",
        "('D17', 'D', '7', 4, 1)\n",
        "('A36', 'A', '6', 1, 0)\n",
        "('B102', 'B', '2', 2, 0)\n",
        "('B69', 'B', '9', 2, 1)\n",
        "('E49', 'E', '9', 5, 1)\n",
        "('C47', 'C', '7', 3, 1)\n",
        "('D28', 'D', '8', 4, 0)\n",
        "('E17', 'E', '7', 5, 1)\n",
        "('A24', 'A', '4', 1, 0)\n",
        "('C50', 'C', '0', 3, 0)\n",
        "('B42', 'B', '2', 2, 0)\n",
        "('C148', 'C', '8', 3, 0)\n"
       ]
      }
     ],
     "prompt_number": 111
    },
    {
     "cell_type": "code",
     "collapsed": false,
     "input": [],
     "language": "python",
     "metadata": {},
     "outputs": [],
     "prompt_number": 98
    },
    {
     "cell_type": "code",
     "collapsed": false,
     "input": [],
     "language": "python",
     "metadata": {},
     "outputs": [],
     "prompt_number": 98
    },
    {
     "cell_type": "code",
     "collapsed": false,
     "input": [],
     "language": "python",
     "metadata": {},
     "outputs": []
    }
   ],
   "metadata": {}
  }
 ]
}