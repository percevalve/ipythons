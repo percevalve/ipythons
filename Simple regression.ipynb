{
 "metadata": {
  "name": "",
  "signature": "sha256:4f82719c6736c1b0cb431a5b945f847f9d9a31f22e20584e866401adc86db8c8"
 },
 "nbformat": 3,
 "nbformat_minor": 0,
 "worksheets": [
  {
   "cells": [
    {
     "cell_type": "markdown",
     "metadata": {},
     "source": [
      "#Simple regression using Scikit-Learn\n",
      "I had to do a regression, perfect opportunity to use Scikit-learn...\n",
      "(This was largely inspired by this more complete example)[http://nbviewer.ipython.org/github/cs109/content/blob/master/labs/lab4/Lab4full.ipynb]\n",
      "\n",
      "##Importing libraries..."
     ]
    },
    {
     "cell_type": "code",
     "collapsed": false,
     "input": [
      "import re\n",
      "from sklearn import datasets, linear_model\n",
      "from sklearn.cross_validation import train_test_split\n",
      "import matplotlib.pyplot as plt\n",
      "import pandas as pd\n",
      "import numpy as np"
     ],
     "language": "python",
     "metadata": {},
     "outputs": []
    },
    {
     "cell_type": "markdown",
     "metadata": {},
     "source": [
      "##Formatting and cleaning data :\n",
      "Data comes from tab separated values in an HTML page, end line are just break-lines"
     ]
    },
    {
     "cell_type": "code",
     "collapsed": false,
     "input": [
      "a = \"32     0.000<br>       64     0.002<br>      128     0.016<br>      256     0.212<br>      512     2.102<br>     1024    22.744<br>     2048   248.011<br>     4096  2670.298\"\n",
      "tab_N = []\n",
      "tab_time = []\n",
      "p = re.compile('\\s*(\\d+)\\s+(\\d+.\\d+)')\n",
      "for i in a.split(\"<br>\"):\n",
      "    m = p.match(i)\n",
      "    tab_N.append(int(m.group(1)))\n",
      "    tab_time.append(float(m.group(2)))\n",
      "s_N = pd.Series(tab_N[1:])\n",
      "s_time = pd.Series(tab_time[1:])\n",
      "plt.scatter(s_N,s_time)\n",
      "#Data appears to be exponential... Let's do a log...\n",
      "s_log_N = np.log2(s_N)\n",
      "s_log_time = np.log2(s_time)"
     ],
     "language": "python",
     "metadata": {},
     "outputs": [
      {
       "metadata": {},
       "output_type": "display_data",
       "png": "[encoded data removed]",
       "text": [
        "<matplotlib.figure.Figure at 0x113fde710>"
       ]
      }
     ],
     "prompt_number": 17
    },
    {
     "cell_type": "code",
     "collapsed": false,
     "input": [
      "\n",
      "\n",
      "df = pd.DataFrame({'N':s_log_N,'time':s_log_time})\n",
      "X_train, X_test, y_train, y_test = train_test_split(df[[\"N\"]], df[[\"time\"]])\n",
      "\n",
      "\n",
      "regr = linear_model.LinearRegression()\n",
      "regr.fit(X_train,y_train)\n",
      "print \"The slope is : %0.2f\" % (regr.coef_)\n",
      "predicted_all = regr.predict(df[[\"N\"]])\n",
      "predicted_train = regr.predict(X_train)\n",
      "predicted_test = regr.predict(X_test)\n",
      "\n",
      "#Plotting the results and comparaison with the test sample\n",
      "plt.scatter(s_log_N,s_log_time,  color='yellow',alpha=0.6)\n",
      "plt.plot(df[[\"N\"]], predicted_all, c='g', alpha=0.5)\n",
      "#The \"test sample\", i.e. the 2 point in red are actually quite closed to the prediction\n",
      "plt.scatter(X_test, y_test,s=60, c='r', alpha=0.9)\n"
     ],
     "language": "python",
     "metadata": {},
     "outputs": [
      {
       "output_type": "stream",
       "stream": "stdout",
       "text": [
        "The slope is : 3.39\n"
       ]
      },
      {
       "metadata": {},
       "output_type": "pyout",
       "prompt_number": 36,
       "text": [
        "<matplotlib.collections.PathCollection at 0x1138b4690>"
       ]
      },
      {
       "metadata": {},
       "output_type": "display_data",
       "png": "[encoded data removed]",
       "text": [
        "<matplotlib.figure.Figure at 0x113cf3c90>"
       ]
      }
     ],
     "prompt_number": 36
    },
    {
     "cell_type": "code",
     "collapsed": false,
     "input": [
      "plt.scatter(predicted_test, (predicted_test- y_test)/y_test*100, c='g', s=40)\n",
      "plt.scatter(predicted_train, (predicted_train- y_train)/y_train*100, c='b', s=40, alpha=0.5)\n",
      "print(\"The test sample error is \"+\", \".join([\"%0.2f%%\" % x[0] for x in ((predicted_test-y_test)/y_test)*100]))"
     ],
     "language": "python",
     "metadata": {},
     "outputs": [
      {
       "output_type": "stream",
       "stream": "stdout",
       "text": [
        "The test sample error is 1.06%, -5.75%\n"
       ]
      },
      {
       "metadata": {},
       "output_type": "display_data",
       "png": "[encoded data removed]",
       "text": [
        "<matplotlib.figure.Figure at 0x113d1d8d0>"
       ]
      }
     ],
     "prompt_number": 45
    }
   ],
   "metadata": {}
  }
 ]
}